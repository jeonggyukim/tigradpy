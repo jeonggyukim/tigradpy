{
 "cells": [
  {
   "cell_type": "markdown",
   "metadata": {},
   "source": [
    "__Install conda and load modules__\n",
    "\n",
    "After installing [miniconda](https://conda.io/miniconda.html), install the following packages:\n",
    "\n",
    "matplotlib numpy scipy astropy pandas yt xarray healpy\n",
    "\n",
    "by typing the following into the command prompt\n",
    "\n",
    "> $conda install matplotlib numpy scipy astropy pandas yt xarray [healpy]\n",
    "\n",
    "anything else..?"
   ]
  },
  {
   "cell_type": "markdown",
   "metadata": {},
   "source": [
    "* __I've been using python 2.7.x but let's try to stick to the python 3.x standard.__\n",
    "\n",
    "\n",
    "* __tigradpy is a rewrite of pyathena. Currently, it is a submodule only to the radiation (and ionrad-dev) branch...much work has to be done__"
   ]
  },
  {
   "cell_type": "code",
   "execution_count": null,
   "metadata": {
    "scrolled": true
   },
   "outputs": [],
   "source": [
    "from __future__ import print_function\n",
    "import sys, os\n",
    "import numpy as np\n",
    "import matplotlib.pyplot as plt\n",
    "import yt\n",
    "\n",
    "yt.funcs.mylog.setLevel(50) # suppress log messages except for critical ones\n",
    "# add tigradpy to python path..\n",
    "sys.path.insert(0, '../../')\n",
    "sys.path.insert(0, '../../pyathena') # add Chang-Goo's pyathena to python path\n",
    "import tigradpy as tp\n",
    "import pyathena as pa\n",
    "print(tp.__all__)"
   ]
  },
  {
   "cell_type": "markdown",
   "metadata": {},
   "source": [
    "__Read simulation input parameters using read_athinput__"
   ]
  },
  {
   "cell_type": "code",
   "execution_count": null,
   "metadata": {},
   "outputs": [],
   "source": [
    "#datadir = '/tigress/jk11/tigrad_pp/rad_8pc_pp_dmax1024/'\n",
    "datadir = '/scratch/gpfs/jk11/radps_postproc/rad_8pc_dmax1024_nproc8/'\n",
    "#datadir = '/home/jk11/athena-tigress/bin/'\n",
    "fathinput = os.path.join(datadir, 'out.txt')\n",
    "par = tp.read_athinput(fathinput) # par is a namedtuple object\n",
    "\n",
    "print(par._fields)\n",
    "\n",
    "print(type(par.problem)) # each item of par is a dictionary\n",
    "# problem block\n",
    "print('\\n','<problem>')\n",
    "for k, v in par.problem.iteritems():\n",
    "    print('*',k,':',v)\n",
    "print('\\n','<radps>')\n",
    "# radps block\n",
    "for k, v in par.radps.iteritems():\n",
    "    print('*',k,':',v)\n",
    "print('\\n','<configure>')\n",
    "# seems like some entries in configure block are not read properly\n",
    "for k, v in par.configure.iteritems():\n",
    "    print('*',k,':',v)"
   ]
  },
  {
   "cell_type": "markdown",
   "metadata": {},
   "source": [
    "__Read vtk file using yt and add derived fields__"
   ]
  },
  {
   "cell_type": "code",
   "execution_count": null,
   "metadata": {},
   "outputs": [],
   "source": [
    "## this is very inconvenient..need to write a conveience unit object\n",
    "import yt.units as yu\n",
    "from yt import physical_constants as phyc\n",
    "units_override = dict(length_unit=(1., 'pc'),\n",
    "                      time_unit=((yu.pc/(yu.km/yu.s)).in_units('Myr'), 'Myr'),\n",
    "                      mass_unit=((1.4272*phyc.mass_hydrogen_cgs*\n",
    "                                 (yu.pc/yu.cm)**3).in_units('Msun'), 'Msun'))\n",
    "\n",
    "num = 1\n",
    "#datadir = '/home/jk11/athena-tigress/bin/'\n",
    "#datadir = '/scratch/gpfs/jk11/radps_postproc/rad_8pc_dmax1024_nproc8/'\n",
    "datadir = '/tigress/jk11/radps_postproc/rad_8pc_dmax1024_nproc8/'\n",
    "\n",
    "filename = os.path.join(datadir, 'rad_8pc.{0:04d}.vtk'.format(num))\n",
    "\n",
    "##Somehow yt spits out a strange warning message when dataset is loaded..\n",
    "# ds = yt.load(filename, units_override=units_override)\n",
    "\n",
    "import warnings\n",
    "with warnings.catch_warnings():\n",
    "    warnings.simplefilter(\"ignore\")\n",
    "    ds = yt.load(filename, units_override=units_override)\n",
    "\n",
    "tp.add_fields(ds, IXN=3)"
   ]
  },
  {
   "cell_type": "markdown",
   "metadata": {},
   "source": [
    "__all vtk output variables are in code unit.__"
   ]
  },
  {
   "cell_type": "code",
   "execution_count": null,
   "metadata": {},
   "outputs": [],
   "source": [
    "ds.field_list"
   ]
  },
  {
   "cell_type": "markdown",
   "metadata": {},
   "source": [
    "__Let's see how derived fields can be added to yt dataset.__"
   ]
  },
  {
   "cell_type": "code",
   "execution_count": null,
   "metadata": {},
   "outputs": [],
   "source": [
    "# %load ../add_fields.py"
   ]
  },
  {
   "cell_type": "markdown",
   "metadata": {},
   "source": [
    "__Example x-z and x-y slices and projections of $n_{\\rm H}$, $x_n$, radiation densities__\n",
    "\n",
    "G0prime1: FUV Mean intensity normalized by solar neighborhood value\n",
    "\\begin{equation}\n",
    "    {\\rm G0prime1} = J_{\\rm FUV}/(2.1 \\times 10^{-4}\\,{\\rm erg}\\,{\\rm cm}^{-2}\\,{\\rm s}^{-1}\\,{\\rm sr}^{-1})\n",
    "\\end{equation}\n",
    "\n",
    "Similarly, define EUV mean intensity as\n",
    "\\begin{equation}\n",
    "    {\\rm G0prime0} = J_{\\rm EUV}/(2.1 \\times 10^{-4}\\,{\\rm erg}\\,{\\rm cm}^{-2}\\,{\\rm s}^{-1}\\,{\\rm sr}^{-1})\n",
    "\\end{equation}"
   ]
  },
  {
   "cell_type": "code",
   "execution_count": null,
   "metadata": {
    "scrolled": false
   },
   "outputs": [],
   "source": [
    "# fields = ['nH', 'xn', 'G0prime0', 'G0prime1']\n",
    "\n",
    "# sy = tp.yt_multipanel(ds, 'slice', 'y', fields=fields)\n",
    "# py = tp.yt_multipanel(ds, 'projection', 'y', fields=fields)\n",
    "# sz = tp.yt_multipanel(ds, 'slice', 'z', fields=fields)\n",
    "# pz = tp.yt_multipanel(ds, 'projection', 'z', fields=fields)"
   ]
  },
  {
   "cell_type": "markdown",
   "metadata": {},
   "source": [
    "__Plot multiple snapshots and save__"
   ]
  },
  {
   "cell_type": "code",
   "execution_count": 2,
   "metadata": {
    "scrolled": false
   },
   "outputs": [
    {
     "name": "stdout",
     "output_type": "stream",
     "text": [
      "1 "
     ]
    }
   ],
   "source": [
    "from __future__ import print_function\n",
    "import sys, os\n",
    "import numpy as np\n",
    "import matplotlib.pyplot as plt\n",
    "import yt\n",
    "import yt.units as yu\n",
    "from yt import physical_constants as phyc\n",
    "\n",
    "yt.funcs.mylog.setLevel(50) # suppress log messages except for critical ones\n",
    "sys.path.insert(0, '../../')\n",
    "import tigradpy as tp\n",
    "\n",
    "units_override = dict(length_unit=(1., 'pc'),\n",
    "                      time_unit=((yu.pc/(yu.km/yu.s)).in_units('Myr'), 'Myr'),\n",
    "                      mass_unit=((1.4272*phyc.mass_hydrogen_cgs*\n",
    "                                 (yu.pc/yu.cm)**3).in_units('Msun'), 'Msun'))\n",
    "\n",
    "fields = ['nH', 'xn', 'G0prime0', 'G0prime1']\n",
    "# kind = (['slice','y'],['slice','z'],\n",
    "#         ['projection','y'],['projection','z'])\n",
    "kind = [['slice','y']]\n",
    "\n",
    "num = range(1, 2, 1)\n",
    "datadir = '/tigress/jk11/radps_postproc/rad_8pc_dmax1024/'\n",
    "savdir = os.path.join('/tigress/jk11/snapshots-rad_8pc_2/')\n",
    "if not os.path.exists(savdir):\n",
    "    os.makedirs(savdir)\n",
    "    \n",
    "for num_ in num:\n",
    "    print(num_, end=' ')\n",
    "    filename = os.path.join(datadir, 'rad_8pc.{0:04d}.vtk'.format(num_))\n",
    "    ds_ = yt.load(filename, units_override=units_override)\n",
    "    tp.add_fields(ds_, IXN=3)\n",
    "    for kind_, axis_ in kind:\n",
    "        fname = '{0:s}_{1:s}_{2:04d}.png'.format(kind_, axis_, num_)\n",
    "        p_ = tp.yt_multipanel(ds_, kind_, axis_, fields=fields)\n",
    "        # add time stamp and save\n",
    "        fig = p_.plots[fields[0]].figure # reference to the mpl figure\n",
    "        ax = fig.axes[0]\n",
    "        ax.set_title('time {0:5.1f}'.format(ds_.current_time))\n",
    "        fig.savefig(os.path.join(savdir, fname))\n",
    "        plt.close(fig)"
   ]
  },
  {
   "cell_type": "markdown",
   "metadata": {},
   "source": [
    "__midplane slices from raw arrays__"
   ]
  },
  {
   "cell_type": "code",
   "execution_count": null,
   "metadata": {},
   "outputs": [],
   "source": [
    "from mpl_toolkits.axes_grid1 import make_axes_locatable\n",
    "\n",
    "fig, axes = plt.subplots(2, 2, figsize=(10, 10))\n",
    "axes = axes.flatten()\n",
    "\n",
    "Nx1 = par.domain1['Nx1']\n",
    "Nx2 = par.domain1['Nx2']\n",
    "Nx3 = par.domain1['Nx3']\n",
    "ix = Nx1\n",
    "iy = Nx2\n",
    "iz = Nx3/2\n",
    "\n",
    "num = 5\n",
    "# read joined vtk..\n",
    "datadir = '/scratch/gpfs/jk11/tigrad_pp/rad_8pc_pp_dmax1024/'\n",
    "filename = os.path.join(datadir, 'rad_8pc_pp.{0:04d}.vtk'.format(num))\n",
    "ds = yt.load(filename, units_override=units_override)\n",
    "tp.add_fields(ds, IXN=3)\n",
    "\n",
    "da = ds.all_data()\n",
    "den = da['nH'].reshape(Nx1,Nx2,Nx3)[:,:,iz].v\n",
    "T = da['Temperature'].reshape(Nx1,Nx2,Nx3)[:,:,iz].v\n",
    "#Tma = np.ma.masked_where(T > 1e4, T)\n",
    "\n",
    "plt.sca(axes[0])\n",
    "im0 = plt.imshow(np.log10(den).T, origin='lower', vmin=-3, vmax=3,\n",
    "                 cmap='Spectral_r')\n",
    "divider = make_axes_locatable(plt.gca())\n",
    "cax0 = divider.append_axes('right', size='5%', pad=0.05)\n",
    "cb0 = plt.colorbar(im0, cax=cax0)\n",
    "cb0.set_label(r'$\\log_{10}\\,n_{\\rm H}$')\n",
    "\n",
    "plt.sca(axes[1])\n",
    "im1 = plt.imshow(np.log10(T).T, origin='lower', vmin=1.0, vmax=6,\n",
    "                 cmap='RdYlBu_r')\n",
    "divider = make_axes_locatable(plt.gca())\n",
    "cax1 = divider.append_axes('right', size='5%', pad=0.05)\n",
    "cb1 = plt.colorbar(im1, cax=cax1)\n",
    "cb1.set_label(r'$\\log_{10}\\,T$')\n",
    "\n",
    "plt.sca(axes[2])\n",
    "xn = da['xn'].reshape(Nx1,Nx2,Nx3)[:,:,iz].v\n",
    "im2 = plt.imshow(np.log10(xn).T, origin='lower', vmin=-8.0, vmax=0.0,\n",
    "                 cmap='viridis')\n",
    "divider = make_axes_locatable(plt.gca())\n",
    "cax2 = divider.append_axes('right', size='5%', pad=0.05)\n",
    "cb2 = plt.colorbar(im2, cax=cax2)\n",
    "cb2.set_label(r'$\\log_{10}\\,x_{\\rm n}$')\n",
    "\n",
    "\n",
    "num = 5\n",
    "num_orig = int(par.problem['num_start'] + (num-1)*(par.problem['num_stride']))\n",
    "\n",
    "datadir_orig = '/tigress//jk11/tigrad_pp/rad_8pc'\n",
    "#datadir = '/home/jk11/athena-tigress/bin'\n",
    "filename = os.path.join(datadir_orig, 'rad_8pc.{0:04d}.vtk'.format(num_orig))\n",
    "\n",
    "##############################################################\n",
    "## Read original data (before postprocessing) using pyathena\n",
    "## (bottom right panel)\n",
    "##############################################################\n",
    "\n",
    "import pyathena as pa\n",
    "import astropy.constants as ac\n",
    "import astropy.units as au\n",
    "\n",
    "ds_orig = pa.AthenaDataSet(filename)\n",
    "den3d = ds_orig.read_all_data('density')\n",
    "P = ds_orig.read_all_data('pressure')\n",
    "unit = pa.set_units(muH=1.4272)\n",
    "to_pok=(unit['pressure']/ac.k_B).cgs.value\n",
    "pok = P*to_pok\n",
    "T1_new = pok/den/1.4272\n",
    "T1 = ds_orig.read_all_data('T1')\n",
    "temp = pa.coolftn.get_temp(T1)\n",
    "den_orig = den3d[112,:,:]\n",
    "T_orig = temp[112,:,:]\n",
    "\n",
    "plt.sca(axes[3])\n",
    "im1 = plt.imshow(np.log10(T_orig), origin='lower', vmin=1.0, vmax=6,\n",
    "                 cmap='RdYlBu_r')\n",
    "divider = make_axes_locatable(plt.gca())\n",
    "cax1 = divider.append_axes('right', size='5%', pad=0.05)\n",
    "cb1 = plt.colorbar(im1, cax=cax1)\n",
    "cb1.set_label(r'$\\log_{10}\\,T$')\n",
    "plt.tight_layout()"
   ]
  },
  {
   "cell_type": "markdown",
   "metadata": {},
   "source": [
    "##### Compare temperature before and after post-processing"
   ]
  },
  {
   "cell_type": "code",
   "execution_count": null,
   "metadata": {},
   "outputs": [],
   "source": [
    "fig, axes = plt.subplots(1, 2, figsize=(12, 6))\n",
    "plt.sca(axes[0])\n",
    "plt.scatter(den_orig.flatten(), T_orig.flatten(), alpha=0.05, s=1, c='r')\n",
    "plt.scatter(den.flatten(), T.flatten(), alpha=0.03, s=1)\n",
    "plt.xscale('log')\n",
    "plt.yscale('log')\n",
    "plt.xlabel('n_H')\n",
    "plt.ylabel('T (after postproc) [K]')\n",
    "plt.xlim(1e-5, 1e3)\n",
    "\n",
    "plt.sca(axes[1])\n",
    "plt.scatter(T_orig.flatten(), T.T.flatten(), alpha=0.2, s=1)\n",
    "plt.xscale('log')\n",
    "plt.yscale('log')\n",
    "plt.xlabel('T (before) [K]')\n",
    "plt.ylabel('T (after postproc) [K]')\n",
    "#plt.xlim(1e-5,1e2)"
   ]
  },
  {
   "cell_type": "markdown",
   "metadata": {},
   "source": []
  },
  {
   "cell_type": "markdown",
   "metadata": {},
   "source": [
    "__Read zprof__"
   ]
  },
  {
   "cell_type": "code",
   "execution_count": null,
   "metadata": {},
   "outputs": [],
   "source": [
    "#datadir = '/scratch/gpfs/jk11/radps_postproc/rad_8pc_dmax1024/'\n",
    "#datadir = '/home/jk11/athena-tigress/bin'\n",
    "datadir = '/tigress/jk11/radps_postproc/rad_8pc_dmax1024_nproc8/'\n",
    "num = 5\n",
    "filename = os.path.join(datadir, 'id0', \n",
    "                        'rad_8pc.{0:04d}.whole.zprof'.format(num))\n",
    "zp = tp.read_zprof(filename)\n",
    "print(zp.columns)\n",
    "plt.plot(zp.z, zp.Erad0, 'r-', label=r'$\\langle\\mathcal{E}_{\\rm EUV}\\rangle$')\n",
    "plt.plot(zp.z, zp.Erad1, 'b-', label=r'$\\langle\\mathcal{E}_{\\rm FUV}\\rangle$')\n",
    "plt.yscale('log')\n",
    "plt.xlabel('z [pc]')\n",
    "plt.legend(fontsize='x-large')"
   ]
  },
  {
   "cell_type": "markdown",
   "metadata": {},
   "source": [
    "__Read all zprof__"
   ]
  },
  {
   "cell_type": "code",
   "execution_count": null,
   "metadata": {},
   "outputs": [],
   "source": [
    "zpa = tp.read_zprof_all(os.path.join(datadir, 'id0'), 'rad_8pc',\n",
    "                        phase='whole', force_override=True)\n",
    "print(type(zpa))\n",
    "zpa.coords, zpa.fields"
   ]
  },
  {
   "cell_type": "code",
   "execution_count": null,
   "metadata": {},
   "outputs": [],
   "source": [
    "#print(zpa.loc['Erad0'].shape)\n",
    "Erad0 = zpa.loc['Erad0']\n",
    "Erad1 = zpa.loc['Erad1']\n",
    "xn = zpa.loc['s4']/zpa.loc['d']\n",
    "#print(np.array(zpa.time))\n",
    "#print('{0:16.10e}'.format(float(zpa.time[4])))"
   ]
  },
  {
   "cell_type": "code",
   "execution_count": null,
   "metadata": {},
   "outputs": [],
   "source": [
    "import matplotlib as mpl\n",
    "\n",
    "plt.figure()\n",
    "print(zpa.z.min(), zpa.z.max())\n",
    "extent = (200, 400, zpa.z.min(), zpa.z.max())\n",
    "aspect = 0.08\n",
    "print(extent)\n",
    "fig, axes = plt.subplots(3, 1, figsize=(8, 15), sharex=True, gridspec_kw=dict(hspace=0.0))\n",
    "plt.sca(axes[0])\n",
    "plt.imshow(Erad0, extent=extent, aspect=aspect)\n",
    "plt.sca(axes[1])\n",
    "plt.imshow(Erad1, extent=extent, aspect=aspect)\n",
    "plt.sca(axes[2])\n",
    "plt.imshow(xn, extent=extent, vmin=0, vmax=1, aspect=aspect)\n",
    "\n",
    "for ax in axes:\n",
    "    ax.set_ylabel('z [pc]')\n",
    "    \n",
    "axes[2].set_xlabel('time [Myr]')"
   ]
  },
  {
   "cell_type": "markdown",
   "metadata": {},
   "source": [
    "* __3d vtk can be joined using shell script__\n",
    "\n",
    "\n",
    "* __For full details, type athena-tigress/vtk/join.sh -h__\n",
    "\n",
    "\n",
    "* __See also Python parallel wrapper script__"
   ]
  },
  {
   "cell_type": "code",
   "execution_count": null,
   "metadata": {},
   "outputs": [],
   "source": [
    "import subprocess\n",
    "subprocess.call(['../../../vtk/join.sh','-r','1:7','-i',datadir])"
   ]
  }
 ],
 "metadata": {
  "kernelspec": {
   "display_name": "Python 2",
   "language": "python",
   "name": "python2"
  },
  "language_info": {
   "codemirror_mode": {
    "name": "ipython",
    "version": 2
   },
   "file_extension": ".py",
   "mimetype": "text/x-python",
   "name": "python",
   "nbconvert_exporter": "python",
   "pygments_lexer": "ipython2",
   "version": "2.7.15"
  }
 },
 "nbformat": 4,
 "nbformat_minor": 2
}
